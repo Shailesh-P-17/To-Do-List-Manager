{
 "cells": [
  {
   "cell_type": "markdown",
   "id": "f8cb68e6",
   "metadata": {},
   "source": [
    "# To-Do List Manager"
   ]
  },
  {
   "cell_type": "markdown",
   "id": "c1bf2d5e",
   "metadata": {},
   "source": [
    "##The TODO List Manager is a simple application that allows users to manage their tasks in a to-do list. Users can add new tasks, view the list of existing tasks, and remove completed tasks from the list. The application provides an easy and convenient way to keep track of tasks and stay organized."
   ]
  },
  {
   "cell_type": "code",
   "execution_count": 2,
   "id": "c5569219",
   "metadata": {},
   "outputs": [],
   "source": [
    "import tkinter as tk\n",
    "from tkinter import messagebox"
   ]
  },
  {
   "cell_type": "code",
   "execution_count": 33,
   "id": "f6880407",
   "metadata": {},
   "outputs": [],
   "source": [
    "\n",
    "class TodoListManager:\n",
    "    \n",
    "    def __init__(self):\n",
    "        \n",
    "        # initialize an empty list tasks to store tasks entered by the user.\n",
    "        self.tasks = []\n",
    "        \n",
    "        # create the main window using tk.Tk() and set title(\"To-Do List Manager\").\n",
    "        self.window = tk.Tk()\n",
    "        self.window.title(\"To-Do List Manager\")\n",
    "        \n",
    "        # create a frame frame_tasks to hold the task list elements and pack it with appropriate padding. \n",
    "        self.frame_tasks = tk.Frame(self.window)\n",
    "        self.frame_tasks.pack(pady=60)\n",
    "        \n",
    "        # create a listbox list_tasks within the frame to display the list of tasks.\n",
    "        self.list_tasks = tk.Listbox(self.frame_tasks, width=150)\n",
    "        self.list_tasks.pack(side=tk.LEFT, fill=tk.BOTH)\n",
    "        \n",
    "        # create a scrollbar scroll_tasks within the frame to enable scrolling when the list of tasks exceeds the visible area.\n",
    "        self.scroll_tasks = tk.Scrollbar(self.frame_tasks)\n",
    "        self.scroll_tasks.pack(side=tk.RIGHT, fill=tk.BOTH)\n",
    "\n",
    "        # this ensures synchronized scrolling. \n",
    "        self.list_tasks.config(yscrollcommand=self.scroll_tasks.set)\n",
    "        self.scroll_tasks.config(command=self.list_tasks.yview)\n",
    "        \n",
    "        # create another frame frame_input to hold the task input elements and pack it with appropriate padding.\n",
    "        self.frame_input = tk.Frame(self.window)\n",
    "        self.frame_input.pack(pady=80)\n",
    "        \n",
    "        # it allow the user to enter the task\n",
    "        self.entry_task = tk.Entry(self.frame_input, width=100)\n",
    "        self.entry_task.pack(side=tk.LEFT)\n",
    "\n",
    "        # create a button within the frame with the text \"Add Task\" and associated with add_task method.\n",
    "        self.btn_add = tk.Button(self.frame_input, text=\"Add Task\", command=self.add_task)\n",
    "        self.btn_add.pack(side=tk.LEFT, padx=20)\n",
    "\n",
    "        # create a button outside the frame with the text \"Remove Task\" and associated with the remove_task method.\n",
    "        self.btn_remove = tk.Button(self.window, text=\"Remove Task\", command=self.remove_task)\n",
    "        self.btn_remove.pack(pady=10)\n",
    "\n",
    "    # it handle the addition of tasks.\n",
    "    def add_task(self):\n",
    "        task = self.entry_task.get()\n",
    "        if task:\n",
    "            self.tasks.append(task)\n",
    "            self.list_tasks.insert(tk.END, task)\n",
    "            self.entry_task.delete(0, tk.END)\n",
    "            messagebox.showinfo(\"Success\", \"Task added successfully.\")\n",
    "        else:\n",
    "            messagebox.showwarning(\"Warning\", \"Please enter a task.\")\n",
    "\n",
    "    # it handle the removal of tasks\n",
    "    def remove_task(self):\n",
    "        try:\n",
    "            selected_index = self.list_tasks.curselection()\n",
    "            if selected_index:\n",
    "                index = int(selected_index[0])\n",
    "                removed_task = self.tasks.pop(index)\n",
    "                self.list_tasks.delete(selected_index)\n",
    "                messagebox.showinfo(\"Success\", f\"Task '{removed_task}' removed successfully.\")\n",
    "            else:\n",
    "                messagebox.showwarning(\"Warning\", \"No task selected.\")\n",
    "        except IndexError:\n",
    "            messagebox.showwarning(\"Warning\", \"Invalid selection.\")\n",
    "\n",
    "    def run(self):\n",
    "        self.window.mainloop()\n",
    "\n",
    "# derived code\n",
    "if __name__ == \"__main__\":\n",
    "    todo_list = TodoListManager()\n",
    "    todo_list.run()\n",
    " "
   ]
  }
 ],
 "metadata": {
  "kernelspec": {
   "display_name": "Python 3 (ipykernel)",
   "language": "python",
   "name": "python3"
  },
  "language_info": {
   "codemirror_mode": {
    "name": "ipython",
    "version": 3
   },
   "file_extension": ".py",
   "mimetype": "text/x-python",
   "name": "python",
   "nbconvert_exporter": "python",
   "pygments_lexer": "ipython3",
   "version": "3.10.9"
  }
 },
 "nbformat": 4,
 "nbformat_minor": 5
}
